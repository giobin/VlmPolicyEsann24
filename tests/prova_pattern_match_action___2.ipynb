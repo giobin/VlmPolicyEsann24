{
 "cells": [
  {
   "cell_type": "code",
   "execution_count": 1,
   "metadata": {},
   "outputs": [
    {
     "name": "stdout",
     "output_type": "stream",
     "text": [
      "Appending to sys.path: ['/home/davide/rocket', '/home/davide/rocket/src']\n"
     ]
    },
    {
     "name": "stderr",
     "output_type": "stream",
     "text": [
      "/home/davide/miniconda3/envs/idefics/lib/python3.10/site-packages/gymnasium/envs/registration.py:694: UserWarning: \u001b[33mWARN: Overriding environment FrozenLakeText-v0 already in registry.\u001b[0m\n",
      "  logger.warn(f\"Overriding environment {new_spec.id} already in registry.\")\n"
     ]
    }
   ],
   "source": [
    "import gymnasium as gym\n",
    "from tqdm import tqdm\n",
    "import sys\n",
    "import os\n",
    "import torch\n",
    "import re\n",
    "import json\n",
    "\n",
    "rocket_dir = os.path.split(os.path.abspath(os.curdir))[:-1]\n",
    "rocket_src_dir = os.path.join(*rocket_dir, 'src')\n",
    "rocket_dir = os.path.join(*rocket_dir)\n",
    "\n",
    "print(f'Appending to sys.path:', [rocket_dir, rocket_src_dir])\n",
    "\n",
    "sys.path.append(rocket_dir)\n",
    "sys.path.append(rocket_src_dir)\n",
    "\n",
    "from src.environments.frozen_env import make_frozen_env, FrozenActions\n",
    "from src.agents.Mistral_agent import MistralAgent"
   ]
  },
  {
   "cell_type": "code",
   "execution_count": 2,
   "metadata": {},
   "outputs": [
    {
     "name": "stderr",
     "output_type": "stream",
     "text": [
      "`low_cpu_mem_usage` was None, now set to True since model is quantized.\n"
     ]
    },
    {
     "data": {
      "application/json": {
       "ascii": false,
       "bar_format": null,
       "colour": null,
       "elapsed": 0.004403114318847656,
       "initial": 0,
       "n": 0,
       "ncols": null,
       "nrows": null,
       "postfix": null,
       "prefix": "Loading checkpoint shards",
       "rate": null,
       "total": 3,
       "unit": "it",
       "unit_divisor": 1000,
       "unit_scale": false
      },
      "application/vnd.jupyter.widget-view+json": {
       "model_id": "65551a1bc1804bd1a772b6175923ebb6",
       "version_major": 2,
       "version_minor": 0
      },
      "text/plain": [
       "Loading checkpoint shards:   0%|          | 0/3 [00:00<?, ?it/s]"
      ]
     },
     "metadata": {},
     "output_type": "display_data"
    },
    {
     "name": "stdout",
     "output_type": "stream",
     "text": [
      "trainable params: 27,262,976 || all params: 7,268,995,072 || trainable%: 0.3750583915652433\n"
     ]
    },
    {
     "data": {
      "text/plain": [
       "Sequential(\n",
       "  (0): Linear(in_features=4096, out_features=1024, bias=True)\n",
       "  (1): ReLU()\n",
       "  (2): Linear(in_features=1024, out_features=512, bias=True)\n",
       "  (3): ReLU()\n",
       "  (4): Linear(in_features=512, out_features=1, bias=True)\n",
       ")"
      ]
     },
     "execution_count": 2,
     "metadata": {},
     "output_type": "execute_result"
    }
   ],
   "source": [
    "torch.backends.cuda.enable_mem_efficient_sdp(False)\n",
    "torch.backends.cuda.enable_flash_sdp(False)\n",
    "\n",
    "agent = MistralAgent(\"mistralai/Mistral-7B-Instruct-v0.2\",\n",
    "                        action_enum=FrozenActions,\n",
    "                         is_lora=True, \n",
    "                         padding_side=\"right\", \n",
    "                         gradient_ckpt=False)\n",
    "agent.critic.to('cuda')"
   ]
  },
  {
   "cell_type": "code",
   "execution_count": 3,
   "metadata": {},
   "outputs": [],
   "source": [
    "runs_directory = 'runs_directory_prova'\n",
    "envs = gym.vector.SyncVectorEnv(\n",
    "            [make_frozen_env(\n",
    "                runs_directory,\n",
    "                area=8, # 8x8,\n",
    "                seed=1234 + i + 1,\n",
    "                size=(512, 512),\n",
    "                is_slippery=False,\n",
    "                fixed_orientation=True,\n",
    "                save_video=False,\n",
    "                save_video_every=20,\n",
    "                save_stats=False,\n",
    "                fov=3\n",
    "            )\n",
    "            for i in range(1)\n",
    "            ])"
   ]
  },
  {
   "cell_type": "code",
   "execution_count": 13,
   "metadata": {},
   "outputs": [
    {
     "name": "stdout",
     "output_type": "stream",
     "text": [
      "_____________CONTEXT PROMPT______________\n",
      "<s>[INST] You are an agent in a survival 2D game. You took action move east.\n",
      "You see:\n",
      "- a trap 1 steps to your east.\n",
      "- a trap 3 steps to your south-west.\n",
      "- the goal 12 steps to your south-east.\n",
      " What's the next best action? You must avoid the traps! Choose exactly one from [move west, move south, move east, move north] [/INST]\n",
      "_____________CONTUINUATION______________\n",
      "Based on the information provided, the next best action would be to move north to avoid both the trap 1 step to the east and the trap 3 steps to the south-west. The goal being 12 steps to the south-east is not a concern at the moment as it is further away and reaching it would involve passing through the trap first.</s>\n",
      "_____________EXTRACT ACTION______________\n",
      "match found: 1\n",
      "Based on the information provided, the next best action would be to move north to avoid both the trap 1 step to the east and the trap 3 steps to the south-west. The goal being 12 steps to the south-east is not a concern at the moment as it is further away and reaching it would involve passing through the trap first.</s>\n",
      "Based on the information provided, the next best action would be to move south. The goal being 12 steps to the south-east is not a concern at the moment as it is further away and reaching it would involve passing through the trap first.</s>\n",
      "Based on the information provided, the next best action would be to move east. The goal being 12 steps to the south-east is not a concern at the moment as it is further away and reaching it would involve passing through the trap first.</s>\n",
      "Based on the information provided, the next best action would be to move north. The goal being 12 steps to the south-east is not a concern at the moment as it is further away and reaching it would involve passing through the trap first.</s>\n",
      "========================================================\n",
      "\n",
      "\n",
      "_____________CONTEXT PROMPT______________\n",
      "<s>[INST] You are an agent in a survival 2D game. You took action move north.\n",
      "You see:\n",
      "- a trap 2 steps to your south-east.\n",
      "- the goal 13 steps to your south-east.\n",
      " What's the next best action? You must avoid the traps! Choose exactly one from [move west, move south, move east, move north] [/INST]\n",
      "_____________CONTUINUATION______________\n",
      "Based on the information provided, the next best action would be to move east to avoid the trap that is 2 steps to the south-east and to keep some distance from the goal, which is 13 steps to the south-east. This way, you can avoid the trap and potentially find a safer path to the goal. Therefore, the answer is \"move east.\"</s>\n",
      "_____________EXTRACT ACTION______________\n",
      "match found: 1\n",
      "Based on the information provided, the next best action would be to move east to avoid the trap that is 2 steps to the south-east and to keep some distance from the goal, which is 13 steps to the south-east. This way, you can avoid the trap and potentially find a safer path to the goal. Therefore, the answer is \"move east.\"</s>\n",
      "Based on the information provided, the next best action would be to move west-east and to keep some distance from the goal, which is 13 steps to the south-east. This way, you can avoid the trap and potentially find a safer path to the goal. Therefore, the answer is \"move east.\"</s>\n",
      "Based on the information provided, the next best action would be to move east-east and to keep some distance from the goal, which is 13 steps to the south-east. This way, you can avoid the trap and potentially find a safer path to the goal. Therefore, the answer is \"move east.\"</s>\n",
      "Based on the information provided, the next best action would be to move north-east and to keep some distance from the goal, which is 13 steps to the south-east. This way, you can avoid the trap and potentially find a safer path to the goal. Therefore, the answer is \"move east.\"</s>\n",
      "========================================================\n",
      "\n",
      "\n",
      "_____________CONTEXT PROMPT______________\n",
      "<s>[INST] You are an agent in a survival 2D game. You took action move south.\n",
      "You see:\n",
      "- a trap 2 steps to your east.\n",
      "- a trap 2 steps to your south.\n",
      "- the goal 13 steps to your south-east.\n",
      " What's the next best action? You must avoid the traps! Choose exactly one from [move west, move south, move east, move north] [/INST]\n",
      "_____________CONTUINUATION______________\n",
      "Based on the information provided, the next best action would be to move to the north to avoid both traps. This way, you can avoid the traps that are currently in your path and potentially reach the goal by adjusting your direction.</s>\n",
      "_____________EXTRACT ACTION______________\n",
      "match found: 1\n",
      "Based on the information provided, the next best action would be to move to the north to avoid both traps. This way, you can avoid the traps that are currently in your path and potentially reach the goal by adjusting your direction.</s>\n",
      "Based on the information provided, the next best action would be to move west to avoid both traps. This way, you can avoid the traps that are currently in your path and potentially reach the goal by adjusting your direction.</s>\n",
      "Based on the information provided, the next best action would be to move south to avoid both traps. This way, you can avoid the traps that are currently in your path and potentially reach the goal by adjusting your direction.</s>\n",
      "Based on the information provided, the next best action would be to move east to avoid both traps. This way, you can avoid the traps that are currently in your path and potentially reach the goal by adjusting your direction.</s>\n",
      "========================================================\n",
      "\n",
      "\n",
      "_____________CONTEXT PROMPT______________\n",
      "<s>[INST] You are an agent in a survival 2D game. You took action move south.\n",
      "You see:\n",
      "- a trap 3 steps to your north-east.\n",
      "- a trap 1 steps to your south.\n",
      "- the goal 12 steps to your south-east.\n",
      " What's the next best action? You must avoid the traps! Choose exactly one from [move west, move south, move east, move north] [/INST]\n",
      "_____________CONTUINUATION______________\n",
      "Based on the information provided, the next best action would be to move to the south, avoiding the trap that is 1 step to the south. After passing the trap, you can continue moving towards the goal, which is 11 steps to the south-east. Therefore, the sequence of actions would be: move south, move south-east (11 steps).</s>\n",
      "_____________EXTRACT ACTION______________\n",
      "match found: 1\n",
      "Based on the information provided, the next best action would be to move to the south, avoiding the trap that is 1 step to the south. After passing the trap, you can continue moving towards the goal, which is 11 steps to the south-east. Therefore, the sequence of actions would be: move south, move south-east (11 steps).</s>\n",
      "Based on the information provided, the next best action would be to move west, avoiding the trap that is 1 step to the south. After passing the trap, you can continue moving towards the goal, which is 11 steps to the south-east. Therefore, the sequence of actions would be: move south, move south-east (11 steps).</s>\n",
      "Based on the information provided, the next best action would be to move east, avoiding the trap that is 1 step to the south. After passing the trap, you can continue moving towards the goal, which is 11 steps to the south-east. Therefore, the sequence of actions would be: move south, move south-east (11 steps).</s>\n",
      "Based on the information provided, the next best action would be to move north, avoiding the trap that is 1 step to the south. After passing the trap, you can continue moving towards the goal, which is 11 steps to the south-east. Therefore, the sequence of actions would be: move south, move south-east (11 steps).</s>\n",
      "========================================================\n",
      "\n",
      "\n"
     ]
    }
   ],
   "source": [
    "import numpy as np\n",
    "\n",
    "obs, info = envs.reset(seed=42)\n",
    "count = 0\n",
    "\n",
    "# get random observation by stepping the environment\n",
    "while True:\n",
    "    action = envs.action_space.sample()\n",
    "    obs, reward, done, truncated, info = envs.step(action)\n",
    "    \n",
    "    if done:\n",
    "        envs.reset()\n",
    "    elif np.random.rand() >= 0.8:\n",
    "        _, contexts, _ = agent.create_prompt_for_action_and_value(text_description=info['obs'])\n",
    "        context = contexts[0]\n",
    "        print('_____________CONTEXT PROMPT______________')\n",
    "        print(context)\n",
    "        print('_____________CONTUINUATION______________')\n",
    "        continuation = agent.generate_continuation(context)\n",
    "        print(continuation)\n",
    "        print('_____________EXTRACT ACTION______________')\n",
    "\n",
    "        action_list = [a.value for a in agent.action_enum]\n",
    "        fixtemplate_action_choices = [f\"Based on the information provided, the best action would be to {action}\" for action in action_list]\n",
    "        action_choices, match_found = agent.find_action_in_sentence_and_create_action_choices(continuation, action_list, fixtemplate_action_choices)\n",
    "        print('match found:', match_found)\n",
    "        for ac in action_choices:\n",
    "            print(ac)\n",
    "        count += 1\n",
    "        print('========================================================\\n\\n')\n",
    "        \n",
    "    if count > 3:\n",
    "        break\n",
    "\n",
    "\n",
    "\n",
    "\n",
    "\n"
   ]
  }
 ],
 "metadata": {
  "kernelspec": {
   "display_name": "idefics",
   "language": "python",
   "name": "python3"
  },
  "language_info": {
   "codemirror_mode": {
    "name": "ipython",
    "version": 3
   },
   "file_extension": ".py",
   "mimetype": "text/x-python",
   "name": "python",
   "nbconvert_exporter": "python",
   "pygments_lexer": "ipython3",
   "version": "3.10.8"
  }
 },
 "nbformat": 4,
 "nbformat_minor": 2
}
