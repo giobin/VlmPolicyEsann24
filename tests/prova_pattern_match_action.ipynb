{
 "cells": [
  {
   "cell_type": "code",
   "execution_count": 26,
   "metadata": {},
   "outputs": [
    {
     "name": "stdout",
     "output_type": "stream",
     "text": [
      "Appending to sys.path: ['/data/zago/rocket', '/data/zago/rocket/src']\n"
     ]
    }
   ],
   "source": [
    "import gymnasium as gym\n",
    "from tqdm import tqdm\n",
    "import sys\n",
    "import os\n",
    "import torch\n",
    "import re\n",
    "import json\n",
    "\n",
    "rocket_dir = os.path.split(os.path.abspath(os.curdir))[:-1]\n",
    "rocket_src_dir = os.path.join(*rocket_dir, 'src')\n",
    "rocket_dir = os.path.join(*rocket_dir)\n",
    "\n",
    "print(f'Appending to sys.path:', [rocket_dir, rocket_src_dir])\n",
    "\n",
    "sys.path.append(rocket_dir)\n",
    "sys.path.append(rocket_src_dir)\n",
    "\n",
    "from src.environments.frozen_env import make_frozen_env, FrozenActions\n",
    "from src.agents.Mistral_agent import MistralAgent"
   ]
  },
  {
   "cell_type": "code",
   "execution_count": 27,
   "metadata": {},
   "outputs": [
    {
     "name": "stderr",
     "output_type": "stream",
     "text": [
      "Loading checkpoint shards: 100%|██████████████████| 3/3 [00:06<00:00,  2.30s/it]\n"
     ]
    },
    {
     "name": "stdout",
     "output_type": "stream",
     "text": [
      "trainable params: 27,262,976 || all params: 7,268,995,072 || trainable%: 0.3750583915652433\n"
     ]
    },
    {
     "data": {
      "text/plain": [
       "Sequential(\n",
       "  (0): Linear(in_features=4096, out_features=1024, bias=True)\n",
       "  (1): ReLU()\n",
       "  (2): Linear(in_features=1024, out_features=512, bias=True)\n",
       "  (3): ReLU()\n",
       "  (4): Linear(in_features=512, out_features=1, bias=True)\n",
       ")"
      ]
     },
     "execution_count": 27,
     "metadata": {},
     "output_type": "execute_result"
    }
   ],
   "source": [
    "torch.backends.cuda.enable_mem_efficient_sdp(False)\n",
    "torch.backends.cuda.enable_flash_sdp(False)\n",
    "\n",
    "agent = MistralAgent(\"mistralai/Mistral-7B-Instruct-v0.2\",\n",
    "                        action_enum=FrozenActions,\n",
    "                         is_lora=True, \n",
    "                         padding_side=\"right\", \n",
    "                         gradient_ckpt=False)\n",
    "agent.critic.to('cuda')"
   ]
  },
  {
   "cell_type": "code",
   "execution_count": 28,
   "metadata": {},
   "outputs": [],
   "source": [
    "runs_directory = 'runs_directory_prova'\n",
    "envs = gym.vector.SyncVectorEnv(\n",
    "            [make_frozen_env(\n",
    "                runs_directory,\n",
    "                area=8, # 8x8,\n",
    "                seed=1234 + i + 1,\n",
    "                size=(512, 512),\n",
    "                is_slippery=False,\n",
    "                fixed_orientation=True,\n",
    "                save_video=False,\n",
    "                save_video_every=20,\n",
    "                save_stats=False,\n",
    "                fov=3\n",
    "            )\n",
    "            for i in range(1)\n",
    "            ])"
   ]
  },
  {
   "cell_type": "code",
   "execution_count": 29,
   "metadata": {},
   "outputs": [],
   "source": [
    "def find_action_in_sentence_and_create_action_choices(generated_action, action_list, fixtemplate_action_choices):\n",
    "        #extract the action from the generated_action.\n",
    "        #substitute the action position with the other possible actions.\n",
    "        #if no match is found return the defult action prompts.\n",
    "        pattern = '|'.join(map(re.escape, action_list))\n",
    "        match = re.search(pattern, generated_action)\n",
    "        if match:\n",
    "            match_found = 1\n",
    "            matched_action = match.group()\n",
    "            generated_action_choices = [generated_action.replace(matched_action, action) for action in action_list]\n",
    "        else:\n",
    "            match_found = 0\n",
    "            generated_action_choices = fixtemplate_action_choices\n",
    "        return generated_action_choices, match_found, matched_action"
   ]
  },
  {
   "cell_type": "code",
   "execution_count": 31,
   "metadata": {},
   "outputs": [
    {
     "name": "stdout",
     "output_type": "stream",
     "text": [
      "<s>[INST] You are an agent in a survival 2D game. You took action noop.\n",
      "You see:\n",
      "- a trap 1 steps to your east.\n",
      "- a trap 3 steps to your south-east.\n",
      "- a trap 3 steps to your south.\n",
      "- the goal 14 steps to your south-east.\n",
      " What's the next best action? You must avoid the traps! Choose exactly one from [move west, move south, move east, move north] [/INST]\n",
      "_____________CONTUINUATION______________\n",
      "Based on the information provided, the next best action would be to move north to avoid the traps that are located to the south and south-east.</s>\n",
      "_____________EXTRACT ACTION______________\n",
      "move north\n",
      "_____________LLM ORACLE______________\n",
      "move north\n"
     ]
    }
   ],
   "source": [
    "obs, info = envs.reset(seed=42)\n",
    "\n",
    "_, contexts, _ = agent.create_prompt_for_action_and_value(text_description=info['obs'])\n",
    "context = contexts[0]\n",
    "print('_____________CONTEXT PROMPT______________')\n",
    "print(context)\n",
    "print('_____________CONTUINUATION______________')\n",
    "continuation = agent.generate_continuation(context)\n",
    "print(continuation)\n",
    "print('_____________EXTRACT ACTION______________')\n",
    "\n",
    "action_list = [a.value for a in agent.action_enum]\n",
    "fixtemplate_action_choices = [f\"Based on the information provided, the best action would be to {action}\" for action in action_list]\n",
    "action_choices, match_found, matched_action = find_action_in_sentence_and_create_action_choices(continuation, action_list, fixtemplate_action_choices)\n",
    "print(matched_action)\n",
    "\n",
    "print('_____________LLM ORACLE______________')\n",
    "question = f'You must extract the action described in the following text. You must extract exactly one action, with no alternatives, from [{\", \".join(action_list)}]. Text: {context}. Answer: the extracted action is'\n",
    "extracted_action = agent.generate_continuation(question)\n",
    "pattern = '|'.join(map(re.escape, action_list))\n",
    "match = re.search(pattern, extracted_action)\n",
    "print(match.group())\n",
    "\n"
   ]
  },
  {
   "cell_type": "markdown",
   "metadata": {},
   "source": [
    "### Generate dataset: we want to test accuracy of the methods"
   ]
  },
  {
   "cell_type": "code",
   "execution_count": 104,
   "metadata": {},
   "outputs": [
    {
     "name": "stderr",
     "output_type": "stream",
     "text": [
      "100%|███████████████████████████████████████████████████████████████████████████████████████████████████████████████████████████████████████████████████████████████████████████████████████████████████████████████████████████████████████████████████| 500/500 [29:45<00:00,  3.57s/it]\n"
     ]
    }
   ],
   "source": [
    "filename = 'dataset_with_agent_functions_500.json'\n",
    "\n",
    "if os.path.exists(filename):\n",
    "    with open(filename, 'r') as f:\n",
    "        dataset = json.load(f)\n",
    "    print(f'Loaded dataset with {len(dataset)} samples')\n",
    "else:\n",
    "    \n",
    "    ############ SET DATASET SIZE\n",
    "    size = 500\n",
    "    \n",
    "    #######################################################\n",
    "    # collect data\n",
    "    envs = gym.vector.SyncVectorEnv(\n",
    "                [make_frozen_env(\n",
    "                    runs_directory,\n",
    "                    area=8, # 8x8,\n",
    "                    size=(512, 512),\n",
    "                    is_slippery=False,\n",
    "                    fixed_orientation=True,\n",
    "                    save_video=False,\n",
    "                    save_video_every=20,\n",
    "                    save_stats=False,\n",
    "                    fov=3\n",
    "                )\n",
    "                for _ in range(1)\n",
    "                ])\n",
    "\n",
    "    observation, info = envs.reset()\n",
    "    raw_dataset = [info['obs'][0]]\n",
    "\n",
    "    while len(raw_dataset) < size:\n",
    "        action = envs.action_space.sample()\n",
    "        _, _, terminated, truncated, info = envs.step(action)\n",
    "\n",
    "        if terminated or truncated:\n",
    "            _, info = envs.reset()\n",
    "        \n",
    "        raw_dataset.append(info['obs'][0])\n",
    "\n",
    "    #######################################################\n",
    "    dataset = []\n",
    "\n",
    "    for x in tqdm(raw_dataset):\n",
    "        _, prompts, _ = agent.create_prompt_for_action_and_value(text_description=[x])    \n",
    "        responses = [agent.generate_continuation(prompts)]\n",
    "        \n",
    "        # tag data with LLM (NOTE: it may contain errors!!!)    \n",
    "        modified_responses = [f'[INST] You have a text which refers to a game, and it indicates the best action to take. You must extract exactly one action form [move north, move south, move east, move west] in less than 10 words. Don\\'t tell me the reason, I just want the action. If there are multiple best actions, tell me the first suggested. The text is:\\n{responses[0]}[/INST] Extracted action:']\n",
    "        s = agent.generate_continuation(modified_responses)\n",
    "            \n",
    "        dataset.append({\n",
    "            'text': responses[0],\n",
    "            'action': s\n",
    "            })\n",
    "        \n",
    "    with open(filename, 'w+') as f:\n",
    "        json.dump(dataset, f, indent=4)"
   ]
  },
  {
   "cell_type": "markdown",
   "metadata": {},
   "source": [
    "### Test methods"
   ]
  },
  {
   "cell_type": "code",
   "execution_count": 105,
   "metadata": {},
   "outputs": [
    {
     "name": "stdout",
     "output_type": "stream",
     "text": [
      "First method accuracy: 0.83\n",
      "Second method accuracy: 0.95\n"
     ]
    }
   ],
   "source": [
    "from thefuzz import process\n",
    "from thefuzz import fuzz\n",
    "\n",
    "first_method_correct = 0\n",
    "second_method_correct = 0\n",
    "\n",
    "for n in dataset:\n",
    "    true_action = re.sub(r'.*(?P<direction>north|south|east|west).*', r'move \\g<direction>', n['action'], flags=re.IGNORECASE)\n",
    "    # print(f'True action: {true_action}')\n",
    "    \n",
    "    # first simple method\n",
    "    pattern = '|'.join(map(re.escape, action_list))\n",
    "    match = re.search(pattern, n['text'], flags=re.IGNORECASE)\n",
    "    \n",
    "    if match and match.group().lower().strip() == true_action:\n",
    "        first_method_correct += 1\n",
    "    \n",
    "    # second method: if first fails try with fuzzy matching\n",
    "    processed_action_list = [r'[^\\.]*?'.join(a.split(' ')) for a in action_list]\n",
    "    pattern = '|'.join(processed_action_list)\n",
    "    if match is None:\n",
    "        match = re.search(pattern, n['text'], flags=re.IGNORECASE) \n",
    "    \n",
    "    if match:\n",
    "        s = process.extractOne(match.group().lower().strip(), action_list, scorer=fuzz.token_set_ratio)[0]\n",
    "    else:\n",
    "        s = None\n",
    "    \n",
    "    if s == true_action:\n",
    "        second_method_correct += 1\n",
    "        \n",
    "print('First method accuracy:', first_method_correct / len(dataset))\n",
    "print('Second method accuracy:', second_method_correct / len(dataset))      \n"
   ]
  },
  {
   "cell_type": "code",
   "execution_count": 106,
   "metadata": {},
   "outputs": [],
   "source": [
    "def find_action_in_sentence_and_create_action_choices___2(generated_action, action_list, fixtemplate_action_choices):\n",
    "        #extract the action from the generated_action.\n",
    "        #substitute the action position with the other possible actions.\n",
    "        #if no match is found return the defult action prompts.\n",
    "        pattern = '|'.join(map(re.escape, action_list))\n",
    "        match = re.search(pattern, generated_action, flags=re.IGNORECASE)\n",
    "        if match:\n",
    "            match_found = 1\n",
    "            matched_action = match.group()\n",
    "            generated_action_choices = [generated_action.replace(matched_action, action) for action in action_list]\n",
    "            return generated_action_choices, match_found, matched_action\n",
    "        \n",
    "        processed_action_list = [r'[^\\.]*?'.join(a.split(' ')) for a in action_list]\n",
    "        pattern = '|'.join(processed_action_list)\n",
    "        match = re.search(pattern, generated_action, flags=re.IGNORECASE)\n",
    "        \n",
    "        if match:\n",
    "            match_found = 1\n",
    "            matched_action = match.group()\n",
    "            matched_action = process.extractOne(matched_action.lower().strip(), action_list, scorer=fuzz.token_set_ratio)[0]\n",
    "            generated_action_choices = [generated_action.replace(matched_action, action) for action in action_list]\n",
    "            return generated_action_choices, match_found, matched_action\n",
    "        \n",
    "        match_found = 0\n",
    "        generated_action_choices = fixtemplate_action_choices\n",
    "        matched_action = None\n",
    "        \n",
    "        return generated_action_choices, match_found, matched_action"
   ]
  }
 ],
 "metadata": {
  "kernelspec": {
   "display_name": "idefics",
   "language": "python",
   "name": "idefics"
  }
 },
 "nbformat": 4,
 "nbformat_minor": 2
}
