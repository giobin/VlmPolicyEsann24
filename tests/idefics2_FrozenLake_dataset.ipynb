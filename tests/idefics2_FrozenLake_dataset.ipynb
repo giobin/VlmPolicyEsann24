{
 "cells": [
  {
   "cell_type": "markdown",
   "metadata": {},
   "source": [
    "# FrozenLake description dataset"
   ]
  },
  {
   "cell_type": "code",
   "execution_count": 33,
   "metadata": {},
   "outputs": [
    {
     "name": "stdout",
     "output_type": "stream",
     "text": [
      "Appending to sys.path: ['/home/davide/rocket', '/home/davide/rocket/src']\n"
     ]
    }
   ],
   "source": [
    "import os\n",
    "import sys\n",
    "\n",
    "rocket_dir = os.path.split(os.path.abspath(os.curdir))[:-1]\n",
    "rocket_src_dir = os.path.join(*rocket_dir, 'src')\n",
    "rocket_dir = os.path.join(*rocket_dir)\n",
    "\n",
    "print(f'Appending to sys.path:', [rocket_dir, rocket_src_dir])\n",
    "\n",
    "sys.path.append(rocket_dir)\n",
    "sys.path.append(rocket_src_dir)\n",
    "\n",
    "import warnings\n",
    "\n",
    "warnings.filterwarnings('ignore')\n",
    "\n",
    "from src.environments.frozen_env import FrozenLakeText\n",
    "import numpy as np\n",
    "import torch\n",
    "from IPython.display import display\n",
    "from torchvision.transforms import ToPILImage\n",
    "from PIL import Image\n",
    "import pygame\n",
    "import re\n",
    "import colorama\n",
    "import enum\n",
    "from src.environments.utils import VisualObsWrapper\n",
    "from torchvision.transforms.functional import resize\n",
    "from itertools import chain\n",
    "from datasets import Dataset, DatasetDict, concatenate_datasets"
   ]
  },
  {
   "cell_type": "markdown",
   "metadata": {},
   "source": [
    "## Task definition\n",
    "\n",
    "We define some *description* tasks. These will be used to evaluate how much a Vision Language Model (VLM) understands the FrozenLake reinforcement learning environment.\n",
    "\n",
    "We choose to differentiate basic tasks and complex tasks."
   ]
  },
  {
   "cell_type": "code",
   "execution_count": 17,
   "metadata": {},
   "outputs": [],
   "source": [
    "\n",
    "class BasicTask(enum.Enum):\n",
    "    describe_tile = enum.auto()\n",
    "    describe_state = enum.auto()\n",
    "    get_num_cells = enum.auto()\n",
    "    describe_each_cell = enum.auto()    \n",
    "\n",
    "\n",
    "class ComplexTask(enum.Enum):\n",
    "    find_goal = enum.auto()\n",
    "    get_expected_actions = enum.auto()\n",
    "    is_player_dead = enum.auto()\n",
    "    get_safe_actions = enum.auto()\n",
    "    get_num_holes = enum.auto()\n",
    "    get_entities_in_fov = enum.auto()\n",
    "    get_last_action = enum.auto()"
   ]
  },
  {
   "cell_type": "markdown",
   "metadata": {},
   "source": [
    "The following function maps each task to the instruction that the LLM gets to solve it."
   ]
  },
  {
   "cell_type": "code",
   "execution_count": 18,
   "metadata": {},
   "outputs": [],
   "source": [
    "def task2instruction(task):\n",
    "    # Basic tasks\n",
    "    if task == BasicTask.describe_tile:\n",
    "        return 'Describe the tile you see in the image'\n",
    "    elif task == BasicTask.describe_state:\n",
    "        return 'Describe the state of the environment from the player\\'s perspective'\n",
    "    elif task == BasicTask.get_num_cells:\n",
    "        return 'How many cells are there in the environment?'\n",
    "    elif task == BasicTask.describe_each_cell:\n",
    "        return 'Describe each cell of the environment from left to right, bottom to top. Use the format: \"The cell [<x>, <y>] contains <tile_content>. Bottom left cell is [0, 0]'\n",
    "    \n",
    "    # Complex tasks\n",
    "    elif task == ComplexTask.find_goal:\n",
    "        return 'Write the direction and the distance (in steps) from the player to the goal'\n",
    "    elif task == ComplexTask.get_expected_actions:\n",
    "        return 'Write the expected actions of the player to reach the goal safely'\n",
    "    elif task == ComplexTask.is_player_dead:\n",
    "        return 'Is the player dead?'\n",
    "    elif task == ComplexTask.get_safe_actions:\n",
    "        return 'Write the list of actions that are safe for the player to execute'\n",
    "    elif task == ComplexTask.get_num_holes:\n",
    "        return 'How many holes are there in the environment?'\n",
    "    elif task == ComplexTask.get_entities_in_fov:\n",
    "        return 'Write the entities in the player\\'s field of view (1 step)'  # TODO: add the number of steps to generalize\n",
    "    elif task == ComplexTask.get_last_action:\n",
    "        return 'Write the last action executed by the player'"
   ]
  },
  {
   "cell_type": "markdown",
   "metadata": {},
   "source": [
    "We want the model to describe game tiles as well (since we are in a grid-like world). We define an enum of tile types."
   ]
  },
  {
   "cell_type": "code",
   "execution_count": 19,
   "metadata": {},
   "outputs": [],
   "source": [
    "class Tile(enum.Enum):\n",
    "    ice = enum.auto()\n",
    "    hole = enum.auto()\n",
    "    cracked_hole = enum.auto()\n",
    "    player_north = enum.auto()\n",
    "    player_south = enum.auto()\n",
    "    player_east = enum.auto()\n",
    "    player_west = enum.auto()\n",
    "    goal = enum.auto()\n",
    "    start = enum.auto()"
   ]
  },
  {
   "cell_type": "markdown",
   "metadata": {},
   "source": [
    "And the mapping tile to tile-name."
   ]
  },
  {
   "cell_type": "code",
   "execution_count": 20,
   "metadata": {},
   "outputs": [],
   "source": [
    "def tile2name(tile):\n",
    "    if tile == Tile.ice:\n",
    "        return 'an ice cell'\n",
    "    elif tile == Tile.hole:\n",
    "        return 'a hole'\n",
    "    elif tile == Tile.cracked_hole:\n",
    "        return 'a cracked hole'\n",
    "    elif tile == Tile.player_north:\n",
    "        return 'the player (facing north)'\n",
    "    elif tile == Tile.player_south:\n",
    "        return 'the player (facing south)'\n",
    "    elif tile == Tile.player_east:\n",
    "        return 'the player (facing east)'\n",
    "    elif tile == Tile.player_west:\n",
    "        return 'the player (facing west)'\n",
    "    elif tile == Tile.goal:\n",
    "        return 'the goal'\n",
    "    elif tile == Tile.start:\n",
    "        return 'the start cell'"
   ]
  },
  {
   "cell_type": "markdown",
   "metadata": {},
   "source": [
    "## Modified env definition\n",
    "\n",
    "Now we define a modified version of the FrozenLakeText environment (our variant with text description) that enables us to sample plausible game states, get diverse description, etc. All these features are NOT part of the game itself, they are useful only for the purpose of generating game description to train the LLM on."
   ]
  },
  {
   "cell_type": "code",
   "execution_count": 21,
   "metadata": {},
   "outputs": [],
   "source": [
    "class ModifiedFrozenLakeText(FrozenLakeText):\n",
    "    def _text2direction(self, text):\n",
    "        direction = re.sub(r'.*(?P<direction>north|south|east|west).*', r'\\g<direction>', text)\n",
    "        return direction\n",
    "\n",
    "    def set_random_position_and_direction(self, rnd_gen=None):\n",
    "        if rnd_gen is None:\n",
    "            rnd_gen = np.random.default_rng()\n",
    "        self.s = rnd_gen.integers(0, self.ncol * self.nrow)\n",
    "        self.last_action = rnd_gen.integers(0, 4)\n",
    "        self.lastaction = self.last_action\n",
    "        \n",
    "    def get_goal_description(self):\n",
    "        desc = self._get_entity_desc(self.goal, \"the goal\").strip()[2:-1]\n",
    "        desc = desc.replace(\"goal\", \"goal is\")\n",
    "        return desc\n",
    "\n",
    "    def _is_hole(self, pos):\n",
    "        for hole in self.holes:\n",
    "            if np.all(pos == hole):\n",
    "                return True\n",
    "        return False\n",
    "\n",
    "    def is_player_dead(self):\n",
    "        return self._is_hole(self._get_pos(self.s))\n",
    "\n",
    "    def _neighbor_safe_cells(self, pos):\n",
    "        neighbors = [\n",
    "            pos + np.array([0, 1]),\n",
    "            pos + np.array([0, -1]),\n",
    "            pos + np.array([1, 0]),\n",
    "            pos + np.array([-1, 0])\n",
    "        ]\n",
    "        neighbors = [n for n in neighbors if not self._is_hole(n) and 0 <= n[0] < self.ncol and 0 <= n[1] < self.nrow]\n",
    "        return neighbors\n",
    "\n",
    "    def get_safe_actions(self):\n",
    "        pos = self._get_pos(self.s)\n",
    "        neighbors = self._neighbor_safe_cells(pos)\n",
    "        text_neighbors = [self._get_entity_desc(n, \"a cell\").strip()[2:-1] for n in neighbors]\n",
    "        direction_neighbors = [self._text2direction(t) for t in text_neighbors]\n",
    "        \n",
    "        mapper = {'north': 'forward', 'south': 'backward', 'east': 'right', 'west': 'left'}\n",
    "        actions = [mapper[d] for d in direction_neighbors]\n",
    "        \n",
    "        return actions\n",
    "\n",
    "    def get_expected_actions(self):\n",
    "        # check directions are walkable\n",
    "        pos = self._get_pos(self.s)\n",
    "        neighbors = self._neighbor_safe_cells(pos)\n",
    "        allowed_directions = [self._get_entity_desc(n, \"a cell\").strip()[2:-1].split(' ')[-1] for n in neighbors]\n",
    "    \n",
    "        # check goal direction\n",
    "        direction = self._get_entity_desc(self.goal, \"the goal\").strip()[2:-1].split(\" \")[-1]\n",
    "        directions = direction.split('-') if '-' in direction else [direction]    \n",
    "        directions = [d for d in directions if d in allowed_directions]\n",
    "        \n",
    "        mapper = {'north': 'forward', 'south': 'backward', 'east': 'right', 'west': 'left'}\n",
    "        actions = [mapper[d] for d in directions]\n",
    "        \n",
    "        return actions\n",
    "\n",
    "    def get_last_action(self):\n",
    "        return self.action2label.get(self.last_action, 'stand still')\n",
    "\n",
    "    def get_entities_in_fov(self):\n",
    "        n_walls, n_holes = 0, 0\n",
    "        for wall_pos in self.walls:\n",
    "            n_walls += 1 if self._get_entity_desc(wall_pos, \"a wall\") != '' else 0\n",
    "        for hole_pos in self.holes:\n",
    "            n_holes += 1 if self._get_entity_desc(hole_pos, \"a hole\") != '' else 0\n",
    "        return f'{n_walls if n_walls else \"no\"} walls and {n_holes if n_holes else \"no\"} holes'\n",
    "    \n",
    "    def get_state_description(self):\n",
    "        text_obs = self._get_text_obs().split('I see:')[-1].replace('.', '').strip('\\n ')\n",
    "        text_obs = text_obs.replace('my', 'the player\\'s')\n",
    "        text_obs = ', '.join(e.strip() for e in text_obs.split('- ') if e.strip())\n",
    "        text_obs = 'The map shows: ' + text_obs\n",
    "        return text_obs\n",
    "    \n",
    "    def get_cell_by_cell_description(self):\n",
    "        desc = ''\n",
    "        for y in range(self.nrow):\n",
    "            for x in range(self.ncol):\n",
    "                desc += f'The cell [{x}, {y}] contains '\n",
    "                if self._is_hole(np.array([x, y])):\n",
    "                    desc += 'a hole'\n",
    "                elif np.all(self._get_pos(self.s) == np.array([x, y])):\n",
    "                    desc += 'the player'\n",
    "                elif x == 0 and y == self.nrow - 1:\n",
    "                    desc += 'the start cell'\n",
    "                elif x == self.ncol - 1 and y == 0:\n",
    "                    desc += 'the goal'\n",
    "                else:\n",
    "                    desc += 'ice'\n",
    "                desc += '\\n'\n",
    "        return desc"
   ]
  },
  {
   "cell_type": "markdown",
   "metadata": {},
   "source": [
    "Now we can define a mapping function that gets the task and the env (with the respective state) and returns the description, or more precisely the answer to the task question.\n",
    "\n",
    "More answers could be plausible."
   ]
  },
  {
   "cell_type": "code",
   "execution_count": 22,
   "metadata": {},
   "outputs": [],
   "source": [
    "def task2answers(task, env, tile=None):\n",
    "    # Basic tasks\n",
    "    if task == BasicTask.describe_tile:\n",
    "        assert tile is not None, 'Tile must be provided'\n",
    "        return ['The picture shows ' + tile2name(tile)]\n",
    "    elif task == BasicTask.describe_state:\n",
    "        return [env.get_state_description()]\n",
    "    elif task == BasicTask.get_num_cells:\n",
    "        return ['The maps has ' + str(env.ncol * env.nrow) + ' cells']\n",
    "    elif task == BasicTask.describe_each_cell:\n",
    "        return [env.get_cell_by_cell_description()]\n",
    "    \n",
    "    # Complex tasks\n",
    "    elif task == ComplexTask.find_goal:\n",
    "        return ['Based on the picture of the state above, it seems that ' + env.get_goal_description()]\n",
    "    elif task == ComplexTask.get_expected_actions:\n",
    "        return [f'Based on the picture of the state above, it seems that the player should move {action} to reach the goal safely' for action in env.get_expected_actions()]\n",
    "    elif task == ComplexTask.is_player_dead:\n",
    "        return ['Based on the picture of the state above, it seems that the player ' + ('is dead because he fell into a hole' if env.is_player_dead() else 'is alive')]\n",
    "    elif task == ComplexTask.get_safe_actions:\n",
    "        return [f'Based on the picture of the state above, it seems that the player can move {action} without dying' for action in env.get_safe_actions()]\n",
    "    elif task == ComplexTask.get_num_holes:\n",
    "        return ['The maps has ' + str(len(env.holes)) + ' holes']\n",
    "    elif task == ComplexTask.get_entities_in_fov:\n",
    "        return [f'The player can see {env.get_entities_in_fov()} {env.fov} step{\"s\" if env.fov > 1 else \"\"} away from him']\n",
    "    elif task == ComplexTask.get_last_action:\n",
    "        return ['The last action executed by the player was to ' + env.get_last_action()]"
   ]
  },
  {
   "cell_type": "markdown",
   "metadata": {},
   "source": [
    "We define the function to generate environments, and a utility function to convert pygame surfaces to PIL images."
   ]
  },
  {
   "cell_type": "code",
   "execution_count": 23,
   "metadata": {},
   "outputs": [],
   "source": [
    "def make_modified_frozen_env(\n",
    "    area=8, # 8x8\n",
    "    size=(244, 244),\n",
    "    seed=None,\n",
    "):   \n",
    "    def resize_obs(obs):\n",
    "        obs = torch.from_numpy(obs).permute(2, 0, 1)\n",
    "        obs = resize(obs, size, antialias=False)\n",
    "        obs = obs.permute(1, 2, 0).numpy()\n",
    "        return obs\n",
    "    \n",
    "    frozen_env = ModifiedFrozenLakeText(map_size=area, is_slippery=False, seed=seed, fov=1, fixed_orientation=True, first_person=True)\n",
    "    frozen_env = VisualObsWrapper(frozen_env, transform=resize_obs)\n",
    "    return frozen_env\n",
    "\n",
    "\n",
    "def pygame_surface2pil_image(surface): \n",
    "    image_str = pygame.image.tostring(surface, 'RGBA')\n",
    "    return Image.frombytes('RGBA', surface.get_size(), image_str)"
   ]
  },
  {
   "cell_type": "markdown",
   "metadata": {},
   "source": [
    "## Dataset generation\n",
    "\n",
    "We are finally ready to define the function to generate the dataset.\n",
    "\n",
    "The function samples a number of states randomly (with the game area sampled from a given range). For each state, a set of questions and answers is generated. Finally, the description of the tiles is added."
   ]
  },
  {
   "cell_type": "code",
   "execution_count": 24,
   "metadata": {},
   "outputs": [],
   "source": [
    "def generate_dataset(*, num_states, seed, area_range=(2, 12)):\n",
    "    to_pil = ToPILImage()   \n",
    "    rnd_gen = np.random.default_rng(seed)\n",
    "    \n",
    "    dataset = []\n",
    "\n",
    "    # add random states tasks\n",
    "    for _ in range(num_states):\n",
    "        area_size = rnd_gen.integers(*area_range)\n",
    "        env_seed = int(rnd_gen.integers(0, 1_000_000_000))\n",
    "        env = make_modified_frozen_env(seed=env_seed, area=area_size)\n",
    "        env.reset(seed=env_seed)\n",
    "        \n",
    "        # sample random position and set it\n",
    "        env.set_random_position_and_direction(rnd_gen)\n",
    "        \n",
    "        visual_obs = to_pil(env.render())\n",
    "        \n",
    "        # Basic tasks\n",
    "        for task in BasicTask:\n",
    "            if task != BasicTask.describe_tile:\n",
    "                answer = task2answers(task, env)\n",
    "                for ans in answer:\n",
    "                    dataset.append({\n",
    "                        'id': len(dataset),\n",
    "                        'task': task.name,\n",
    "                        'env_seed': env_seed,\n",
    "                        'image': visual_obs,\n",
    "                        'instruction': task2instruction(task),\n",
    "                        'answer': ans\n",
    "                    })\n",
    "        \n",
    "        # Complex tasks\n",
    "        for task in ComplexTask:\n",
    "            answer = task2answers(task, env)\n",
    "            for ans in answer:\n",
    "                dataset.append({\n",
    "                    'id': len(dataset),\n",
    "                    'task': task.name,\n",
    "                    'enc_seed': None,\n",
    "                    'image': visual_obs,\n",
    "                    'instruction': task2instruction(task),\n",
    "                    'answer': ans\n",
    "                })\n",
    "                \n",
    "    # add tile description task\n",
    "    tile2pygame_surface = {\n",
    "        Tile.ice: env.ice_img,\n",
    "        Tile.hole: env.hole_img,\n",
    "        Tile.cracked_hole: env.cracked_hole_img,\n",
    "        Tile.player_north: env.elf_images[0],\n",
    "        Tile.player_south: env.elf_images[1],\n",
    "        Tile.player_east: env.elf_images[2],\n",
    "        Tile.player_west: env.elf_images[3],\n",
    "        Tile.goal: env.goal_img,\n",
    "        Tile.start: env.start_img\n",
    "    }\n",
    "    tiles_with_ice_background = [Tile.player_north, Tile.player_south, Tile.player_east, Tile.player_west, Tile.goal, Tile.start]\n",
    "\n",
    "    for tile in Tile:\n",
    "        image = pygame_surface2pil_image(tile2pygame_surface[tile])\n",
    "        if tile in tiles_with_ice_background:\n",
    "            background = pygame_surface2pil_image(tile2pygame_surface[Tile.ice])\n",
    "            background.paste(image, (0, 0), image)\n",
    "            image = background\n",
    "            \n",
    "        # remove alpha channel from PIL image\n",
    "        \n",
    "            \n",
    "        dataset.append({\n",
    "            'task': BasicTask.describe_tile.name,\n",
    "            'image': image.convert('RGB'),\n",
    "            'instruction': task2instruction(BasicTask.describe_tile),\n",
    "            'answer': task2answers(BasicTask.describe_tile, env, tile=tile)[0]\n",
    "        })    \n",
    "               \n",
    "    return dataset"
   ]
  },
  {
   "cell_type": "markdown",
   "metadata": {},
   "source": [
    "We generate a dataset of ~2300 examples."
   ]
  },
  {
   "cell_type": "code",
   "execution_count": 25,
   "metadata": {},
   "outputs": [
    {
     "data": {
      "text/plain": [
       "2398"
      ]
     },
     "execution_count": 25,
     "metadata": {},
     "output_type": "execute_result"
    }
   ],
   "source": [
    "dataset = generate_dataset(num_states=200, seed=42)\n",
    "\n",
    "len(dataset)"
   ]
  },
  {
   "cell_type": "markdown",
   "metadata": {},
   "source": [
    "Let's see some examples."
   ]
  },
  {
   "cell_type": "code",
   "execution_count": 26,
   "metadata": {},
   "outputs": [
    {
     "data": {
      "image/jpeg": "[encoded data removed]",
      "image/png": "[encoded data removed]",
      "text/plain": [
       "<PIL.Image.Image image mode=RGB size=128x128>"
      ]
     },
     "metadata": {},
     "output_type": "display_data"
    },
    {
     "name": "stdout",
     "output_type": "stream",
     "text": [
      "TASK:\n",
      "get_last_action\n",
      "\n",
      "INSTRUCTION:\n",
      "Write the last action executed by the player\n",
      "\n",
      "ANSWER:\n",
      "The last action executed by the player was to move south\n",
      "\u001b[32m====================================================================================================\u001b[0m\n"
     ]
    },
    {
     "data": {
      "image/jpeg": "[encoded data removed]",
      "image/png": "[encoded data removed]",
      "text/plain": [
       "<PIL.Image.Image image mode=RGB size=384x384>"
      ]
     },
     "metadata": {},
     "output_type": "display_data"
    },
    {
     "name": "stdout",
     "output_type": "stream",
     "text": [
      "TASK:\n",
      "describe_state\n",
      "\n",
      "INSTRUCTION:\n",
      "Describe the state of the environment from the player's perspective\n",
      "\n",
      "ANSWER:\n",
      "The map shows: a wall 1 steps to the player's north, a trap 1 steps to the player's south, the goal 7 steps to the player's south-east\n",
      "\u001b[32m====================================================================================================\u001b[0m\n"
     ]
    },
    {
     "data": {
      "image/jpeg": "[encoded data removed]",
      "image/png": "[encoded data removed]",
      "text/plain": [
       "<PIL.Image.Image image mode=RGB size=64x64>"
      ]
     },
     "metadata": {},
     "output_type": "display_data"
    },
    {
     "name": "stdout",
     "output_type": "stream",
     "text": [
      "TASK:\n",
      "describe_tile\n",
      "\n",
      "INSTRUCTION:\n",
      "Describe the tile you see in the image\n",
      "\n",
      "ANSWER:\n",
      "The picture shows the goal\n",
      "\u001b[32m====================================================================================================\u001b[0m\n"
     ]
    },
    {
     "data": {
      "image/jpeg": "[encoded data removed]",
      "image/png": "[encoded data removed]",
      "text/plain": [
       "<PIL.Image.Image image mode=RGB size=64x64>"
      ]
     },
     "metadata": {},
     "output_type": "display_data"
    },
    {
     "name": "stdout",
     "output_type": "stream",
     "text": [
      "TASK:\n",
      "describe_tile\n",
      "\n",
      "INSTRUCTION:\n",
      "Describe the tile you see in the image\n",
      "\n",
      "ANSWER:\n",
      "The picture shows the start cell\n",
      "\u001b[32m====================================================================================================\u001b[0m\n"
     ]
    }
   ],
   "source": [
    "for data in chain(dataset[10:12], dataset[-2:]):\n",
    "    display(data['image'])\n",
    "    print('TASK:')\n",
    "    print(data['task'])\n",
    "    print('\\nINSTRUCTION:')\n",
    "    print(data['instruction'])\n",
    "    print('\\nANSWER:')\n",
    "    print(data['answer'])\n",
    "    print(colorama.Fore.GREEN + '=' * 100 + colorama.Style.RESET_ALL)"
   ]
  },
  {
   "cell_type": "markdown",
   "metadata": {},
   "source": [
    "## Save the dataset with Huggingface `datasets`\n",
    "\n",
    "Now that we have a well define dataset, we can load it with HuggingFace and push it to the Hub for later use."
   ]
  },
  {
   "cell_type": "code",
   "execution_count": 34,
   "metadata": {},
   "outputs": [
    {
     "data": {
      "application/vnd.jupyter.widget-view+json": {
       "model_id": "e8f7df52a03a49b586f856908f24db86",
       "version_major": 2,
       "version_minor": 0
      },
      "text/plain": [
       "Filter:   0%|          | 0/2398 [00:00<?, ? examples/s]"
      ]
     },
     "metadata": {},
     "output_type": "display_data"
    },
    {
     "data": {
      "application/vnd.jupyter.widget-view+json": {
       "model_id": "05a7176e6b7b46278cacc42bff45aece",
       "version_major": 2,
       "version_minor": 0
      },
      "text/plain": [
       "Filter:   0%|          | 0/2398 [00:00<?, ? examples/s]"
      ]
     },
     "metadata": {},
     "output_type": "display_data"
    },
    {
     "name": "stdout",
     "output_type": "stream",
     "text": [
      "Train dataset size: 2307\n",
      "Test dataset size: 100\n"
     ]
    }
   ],
   "source": [
    "random_split_seed = 24\n",
    "\n",
    "dataset = Dataset.from_list(dataset)\n",
    "\n",
    "test_size = 100\n",
    "train_size = len(dataset) - test_size\n",
    "\n",
    "describe_tile_examples = dataset.filter(lambda x: x['task'] == BasicTask.describe_tile.name)\n",
    "not_describe_tile_examples = dataset.filter(lambda x: x['task'] != BasicTask.describe_tile.name)\n",
    "\n",
    "random_shuffle = torch.randperm(len(not_describe_tile_examples))\n",
    "train_indexes = random_shuffle[:train_size]\n",
    "test_indexes = random_shuffle[train_size:]\n",
    "\n",
    "train_dataset = concatenate_datasets([describe_tile_examples, not_describe_tile_examples.select(train_indexes)])\n",
    "test_dataset = concatenate_datasets([describe_tile_examples, not_describe_tile_examples.select(test_indexes)])\n",
    "\n",
    "print(f'Train dataset size: {len(train_dataset)}')\n",
    "print(f'Test dataset size: {len(test_dataset)}')"
   ]
  },
  {
   "cell_type": "code",
   "execution_count": 35,
   "metadata": {},
   "outputs": [
    {
     "data": {
      "application/vnd.jupyter.widget-view+json": {
       "model_id": "1e707aab993f499e947b8056eea4c3e4",
       "version_major": 2,
       "version_minor": 0
      },
      "text/plain": [
       "Uploading the dataset shards:   0%|          | 0/1 [00:00<?, ?it/s]"
      ]
     },
     "metadata": {},
     "output_type": "display_data"
    },
    {
     "data": {
      "application/vnd.jupyter.widget-view+json": {
       "model_id": "1d14f1c6291b45338fdd049129930127",
       "version_major": 2,
       "version_minor": 0
      },
      "text/plain": [
       "Map:   0%|          | 0/2307 [00:00<?, ? examples/s]"
      ]
     },
     "metadata": {},
     "output_type": "display_data"
    },
    {
     "data": {
      "application/vnd.jupyter.widget-view+json": {
       "model_id": "3fc0de83549f4febb84f20efb1b7f119",
       "version_major": 2,
       "version_minor": 0
      },
      "text/plain": [
       "Creating parquet from Arrow format:   0%|          | 0/24 [00:00<?, ?ba/s]"
      ]
     },
     "metadata": {},
     "output_type": "display_data"
    },
    {
     "data": {
      "application/vnd.jupyter.widget-view+json": {
       "model_id": "1448d93af6ee46488d01bd53fb7871ea",
       "version_major": 2,
       "version_minor": 0
      },
      "text/plain": [
       "Uploading the dataset shards:   0%|          | 0/1 [00:00<?, ?it/s]"
      ]
     },
     "metadata": {},
     "output_type": "display_data"
    },
    {
     "data": {
      "application/vnd.jupyter.widget-view+json": {
       "model_id": "88f8aa9b32504738b84097aa76ea2e8d",
       "version_major": 2,
       "version_minor": 0
      },
      "text/plain": [
       "Map:   0%|          | 0/100 [00:00<?, ? examples/s]"
      ]
     },
     "metadata": {},
     "output_type": "display_data"
    },
    {
     "data": {
      "application/vnd.jupyter.widget-view+json": {
       "model_id": "718eda8187624954b6dbfc75a4925c3b",
       "version_major": 2,
       "version_minor": 0
      },
      "text/plain": [
       "Creating parquet from Arrow format:   0%|          | 0/1 [00:00<?, ?ba/s]"
      ]
     },
     "metadata": {},
     "output_type": "display_data"
    },
    {
     "data": {
      "text/plain": [
       "CommitInfo(commit_url='https://huggingface.co/datasets/dawoz/frozenlake_prompts_dataset/commit/7722d05c6ddbcb92a00ca93d37871b9f0fd1008f', commit_message='Upload dataset', commit_description='', oid='7722d05c6ddbcb92a00ca93d37871b9f0fd1008f', pr_url=None, pr_revision=None, pr_num=None)"
      ]
     },
     "execution_count": 35,
     "metadata": {},
     "output_type": "execute_result"
    }
   ],
   "source": [
    "datasets = DatasetDict({\n",
    "    'train': train_dataset,\n",
    "    'test': test_dataset\n",
    "})\n",
    "\n",
    "# dataset.save_to_disk('frozenlake_prompts_dataset')\n",
    "datasets.push_to_hub('dawoz/frozenlake_prompts_dataset')"
   ]
  }
 ],
 "metadata": {
  "kernelspec": {
   "display_name": "idefics",
   "language": "python",
   "name": "python3"
  },
  "language_info": {
   "codemirror_mode": {
    "name": "ipython",
    "version": 3
   },
   "file_extension": ".py",
   "mimetype": "text/x-python",
   "name": "python",
   "nbconvert_exporter": "python",
   "pygments_lexer": "ipython3",
   "version": "3.10.8"
  }
 },
 "nbformat": 4,
 "nbformat_minor": 2
}
